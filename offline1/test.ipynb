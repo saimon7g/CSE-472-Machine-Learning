{
 "cells": [
  {
   "cell_type": "code",
   "execution_count": null,
   "metadata": {},
   "outputs": [],
   "source": [
    "import pandas as pd\n",
    "import numpy as np\n",
    "\n",
    "# Load the dataset\n",
    "df = pd.read_csv('WA_Fn-UseC_-HR-Employee-Attrition.csv')\n",
    "\n",
    "# Get the number of attributes (columns) and records (rows)\n",
    "num_attributes = df.shape[1]\n",
    "num_records = df.shape[0]\n",
    "\n",
    "print('Number of attributes:', num_attributes)\n",
    "print('Number of records:', num_records)\n",
    "\n",
    "\n",
    "# Show statistics of the dataset\n",
    "statistics = df.describe(include='all')\n",
    "print(statistics)\n",
    "\n",
    "missing_values = df.isnull().sum()\n",
    "print('Missing values:', missing_values)\n",
    "\n",
    "# Check for duplicates\n",
    "num_duplicates = df.duplicated().sum()\n",
    "print(f'Number of duplicate rows: {num_duplicates}')\n"
   ]
  },
  {
   "cell_type": "code",
   "execution_count": null,
   "metadata": {},
   "outputs": [],
   "source": [
    "# Replace missing values with column-wise mean\n",
    "df.fillna(df.mean(numeric_only=True), inplace=True)\n",
    "\n",
    "# Display the number of missing values after imputation\n",
    "print(\"\\nMissing values after imputation:\")\n",
    "print(df.isnull().sum())\n",
    "\n",
    "# Remove duplicate rows\n",
    "df = df.drop_duplicates()\n",
    "\n",
    "# Display the number of duplicate rows after removing\n",
    "num_duplicates_after = df.duplicated().sum()\n",
    "print(f'Number of duplicate rows after removing: {num_duplicates_after}')\n",
    "\n",
    "# Drop rows where 'Attrition' column has missing values\n",
    "df = df.dropna(subset=['Attrition'])\n",
    "\n",
    "# Display the number of missing values in the 'Attrition' column after removal\n",
    "missing_attrition_after = df['Attrition'].isnull().sum()\n",
    "print(f'Number of missing values in Attrition column after removal: {missing_attrition_after}')"
   ]
  },
  {
   "cell_type": "code",
   "execution_count": 11,
   "metadata": {},
   "outputs": [
    {
     "name": "stdout",
     "output_type": "stream",
     "text": [
      "Shape of Features (X): (1470, 34)\n",
      "Shape of Labels (y): (1470,)\n"
     ]
    }
   ],
   "source": [
    "#Define the target column\n",
    "target_column = 'Attrition'\n",
    "\n",
    "# Create the Features (input variables) and Labels (target variable)\n",
    "X = df.drop(columns=[target_column])  # Features: all columns except the target column\n",
    "y = df[target_column]                 # Labels: the target column\n",
    "\n",
    "# Display the shapes of the Features and Labels\n",
    "print(f'Shape of Features (X): {X.shape}')\n",
    "print(f'Shape of Labels (y): {y.shape}')"
   ]
  }
 ],
 "metadata": {
  "kernelspec": {
   "display_name": "env",
   "language": "python",
   "name": "python3"
  },
  "language_info": {
   "codemirror_mode": {
    "name": "ipython",
    "version": 3
   },
   "file_extension": ".py",
   "mimetype": "text/x-python",
   "name": "python",
   "nbconvert_exporter": "python",
   "pygments_lexer": "ipython3",
   "version": "3.10.12"
  }
 },
 "nbformat": 4,
 "nbformat_minor": 2
}
