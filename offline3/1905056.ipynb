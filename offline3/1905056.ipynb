{
 "cells": [
  {
   "cell_type": "code",
   "execution_count": 66,
   "metadata": {},
   "outputs": [],
   "source": [
    "import numpy as np\n",
    "import matplotlib.pyplot as plt\n",
    "from tqdm import tqdm\n",
    "import torch\n",
    "from torchvision import datasets, transforms\n",
    "from sklearn.metrics import f1_score\n",
    "from sklearn.preprocessing import OneHotEncoder\n",
    "\n",
    "class Dense:\n",
    "    def __init__(self, input_dim, output_dim):\n",
    "        self.weights = np.random.randn(input_dim, output_dim) * np.sqrt(2.0 / (input_dim + output_dim)) # ensure tthe variance\n",
    "        self.bias = np.zeros((1, output_dim))\n",
    "        self.input = None\n",
    "        self.output = None\n",
    "        \n",
    "    def forward(self, input_data):\n",
    "        self.input = input_data\n",
    "        self.output = np.dot(input_data, self.weights) + self.bias\n",
    "        return self.output\n",
    "    \n",
    "    def backward(self, grad_output, learning_rate):\n",
    "        grad_input = np.dot(grad_output, self.weights.T)\n",
    "        grad_weights = np.dot(self.input.T, grad_output)\n",
    "        grad_bias = np.sum(grad_output, axis=0, keepdims=True)\n",
    "        \n",
    "        self.weights -= learning_rate * grad_weights\n",
    "        self.bias -= learning_rate * grad_bias\n",
    "        \n",
    "        return grad_input"
   ]
  },
  {
   "cell_type": "code",
   "execution_count": 67,
   "metadata": {},
   "outputs": [],
   "source": [
    "class BatchNorm:\n",
    "    def __init__(self, input_dim, epsilon=1e-8, momentum=0.9):\n",
    "        self.gamma = np.ones((1, input_dim))\n",
    "        self.beta = np.zeros((1, input_dim))\n",
    "        self.epsilon = epsilon\n",
    "        self.running_mean = np.zeros((1, input_dim))\n",
    "        self.running_var = np.ones((1, input_dim))\n",
    "        self.momentum = 0.9\n",
    "        self.input = None\n",
    "        self.normalized = None\n",
    "        self.std = None\n",
    "        self.var = None\n",
    "        self.mean = None\n",
    "        \n",
    "    def forward(self, input_data, training=True):\n",
    "        self.input = input_data\n",
    "        \n",
    "        if training:\n",
    "            self.mean = np.mean(input_data, axis=0, keepdims=True)\n",
    "            self.var = np.var(input_data, axis=0, keepdims=True)\n",
    "            self.running_mean = self.momentum * self.running_mean + (1 - self.momentum) * self.mean\n",
    "            self.running_var = self.momentum * self.running_var + (1 - self.momentum) * self.var\n",
    "        else:\n",
    "            self.mean = self.running_mean\n",
    "            self.var = self.running_var\n",
    "        \n",
    "        self.std = np.sqrt(self.var + self.epsilon)\n",
    "        self.normalized = (input_data - self.mean) / self.std\n",
    "        \n",
    "        return self.gamma * self.normalized + self.beta\n",
    "    \n",
    "    def backward(self, grad_output, learning_rate):\n",
    "        batch_size = grad_output.shape[0]\n",
    "        \n",
    "        grad_gamma = np.sum(grad_output * self.normalized, axis=0, keepdims=True)\n",
    "        grad_beta = np.sum(grad_output, axis=0, keepdims=True)\n",
    "        \n",
    "        grad_normalized = grad_output * self.gamma\n",
    "        grad_var = -0.5 * np.sum(grad_normalized * (self.input - self.mean) / (self.std ** 3), axis=0, keepdims=True)\n",
    "        grad_mean = -np.sum(grad_normalized / self.std, axis=0, keepdims=True) - 2 * grad_var * np.mean(self.input - self.mean, axis=0, keepdims=True)\n",
    "        grad_input = grad_normalized / self.std + 2 * grad_var * (self.input - self.mean) / batch_size + grad_mean / batch_size\n",
    "        \n",
    "        self.gamma -= learning_rate * grad_gamma\n",
    "        self.beta -= learning_rate * grad_beta\n",
    "        \n",
    "        return grad_input"
   ]
  },
  {
   "cell_type": "code",
   "execution_count": 68,
   "metadata": {},
   "outputs": [],
   "source": [
    "class ReLU:\n",
    "    def __init__(self):\n",
    "        self.input = None\n",
    "        \n",
    "    def forward(self, input_data):\n",
    "        self.input = input_data\n",
    "        return np.maximum(0, input_data)\n",
    "    \n",
    "    def backward(self, grad_output):\n",
    "        return grad_output * (self.input > 0)\n",
    "\n",
    "class Dropout:\n",
    "    def __init__(self, drop_rate=0.5):\n",
    "        self.drop_rate = drop_rate\n",
    "        self.mask = None\n",
    "        \n",
    "    def forward(self, input_data, training=True):\n",
    "        if training:\n",
    "            self.mask = np.random.binomial(1, 1-self.drop_rate, size=input_data.shape) / (1-self.drop_rate)\n",
    "            return input_data * self.mask\n",
    "        return input_data\n",
    "    \n",
    "    def backward(self, grad_output):\n",
    "        return grad_output * self.mask"
   ]
  },
  {
   "cell_type": "code",
   "execution_count": 69,
   "metadata": {},
   "outputs": [],
   "source": [
    "class Adam:\n",
    "    def __init__(self, learning_rate=0.001, beta1=0.9, beta2=0.999, epsilon=1e-8):\n",
    "        self.learning_rate = learning_rate\n",
    "        self.beta1 = beta1\n",
    "        self.beta2 = beta2\n",
    "        self.epsilon = epsilon\n",
    "        self.m = {}\n",
    "        self.v = {}\n",
    "        self.t = 0\n",
    "        \n",
    "    def update(self, params, grads):\n",
    "        if not self.m:\n",
    "            for key in params:\n",
    "                self.m[key] = np.zeros_like(params[key])\n",
    "                self.v[key] = np.zeros_like(params[key])\n",
    "        \n",
    "        self.t += 1\n",
    "        \n",
    "        for key in params:\n",
    "            self.m[key] = self.beta1 * self.m[key] + (1 - self.beta1) * grads[key]\n",
    "            self.v[key] = self.beta2 * self.v[key] + (1 - self.beta2) * (grads[key] ** 2)\n",
    "            \n",
    "            m_hat = self.m[key] / (1 - self.beta1 ** self.t)\n",
    "            v_hat = self.v[key] / (1 - self.beta2 ** self.t)\n",
    "            \n",
    "            params[key] -= self.learning_rate * m_hat / (np.sqrt(v_hat) + self.epsilon)"
   ]
  },
  {
   "cell_type": "code",
   "execution_count": 70,
   "metadata": {},
   "outputs": [],
   "source": [
    "class Softmax:\n",
    "    def __init__(self):\n",
    "        self.output = None\n",
    "        \n",
    "    def forward(self, input_data):\n",
    "        exp = np.exp(input_data - np.max(input_data, axis=1, keepdims=True))\n",
    "        self.output = exp / np.sum(exp, axis=1, keepdims=True)\n",
    "        return self.output\n",
    "    \n",
    "    def backward(self, grad_output):\n",
    "        return grad_output * self.output * (1 - self.output)"
   ]
  },
  {
   "cell_type": "code",
   "execution_count": 71,
   "metadata": {},
   "outputs": [],
   "source": [
    "class NeuralNetwork:\n",
    "    def __init__(self, input_size, hidden_sizes, num_classes,learning_rate=0.001):\n",
    "        self.layers = []\n",
    "        layer_sizes = [input_size] + hidden_sizes + [num_classes]\n",
    "        self.learning_rate = learning_rate\n",
    "        \n",
    "        # Create the network architecture\n",
    "        for i in range(len(layer_sizes) - 1):\n",
    "            self.layers.append(Dense(layer_sizes[i], layer_sizes[i+1]))\n",
    "            if i < len(layer_sizes) - 2:  # Don't add these layers after the last Dense layer\n",
    "                self.layers.append(BatchNorm(layer_sizes[i+1]))\n",
    "                self.layers.append(ReLU())\n",
    "                self.layers.append(Dropout(0.3))\n",
    "        \n",
    "        self.layers.append(Softmax())\n",
    "        self.optimizer = Adam(learning_rate=learning_rate)\n",
    "    \n",
    "    def forward(self, x, training=True):\n",
    "        output = x\n",
    "        for layer in self.layers:\n",
    "            if isinstance(layer, (BatchNorm, Dropout)):\n",
    "                output = layer.forward(output, training)\n",
    "            else:\n",
    "                output = layer.forward(output)\n",
    "        return output\n",
    "    \n",
    "    def backward(self, grad_output):\n",
    "        for layer in reversed(self.layers):\n",
    "            if isinstance(layer, (Dense, BatchNorm)):\n",
    "                grad_output = layer.backward(grad_output, self.optimizer.learning_rate)\n",
    "            else:\n",
    "                grad_output = layer.backward(grad_output)\n",
    "    \n",
    "    def train(self, X_train, y_train, X_val, y_val, epochs=10, batch_size=64):\n",
    "    # Convert labels to one-hot encoding\n",
    "        enc = OneHotEncoder(sparse_output=False)  # Changed from sparse=False to sparse_output=False\n",
    "        y_train_oh = enc.fit_transform(y_train.reshape(-1, 1))\n",
    "        y_val_oh = enc.transform(y_val.reshape(-1, 1))\n",
    "        \n",
    "        train_losses = []\n",
    "        val_losses = []\n",
    "        train_accs = []\n",
    "        val_accs = []\n",
    "        val_f1s = []\n",
    "        \n",
    "        n_samples = X_train.shape[0]\n",
    "        n_batches = n_samples // batch_size\n",
    "    \n",
    "        \n",
    "        for epoch in range(epochs):\n",
    "            # Shuffle training data\n",
    "            indices = np.random.permutation(n_samples)\n",
    "            X_train = X_train[indices]\n",
    "            y_train_oh = y_train_oh[indices]\n",
    "            \n",
    "            epoch_loss = 0\n",
    "            correct_predictions = 0\n",
    "            \n",
    "            # Training\n",
    "            for batch in tqdm(range(n_batches), desc=f'Epoch {epoch+1}/{epochs}'):\n",
    "                start_idx = batch * batch_size\n",
    "                end_idx = start_idx + batch_size\n",
    "                \n",
    "                X_batch = X_train[start_idx:end_idx]\n",
    "                y_batch = y_train_oh[start_idx:end_idx]\n",
    "                \n",
    "                # Forward pass\n",
    "                output = self.forward(X_batch, training=True)\n",
    "                predictions = np.argmax(output, axis=1)\n",
    "                correct_predictions += np.sum(predictions == np.argmax(y_batch, axis=1))\n",
    "                \n",
    "                # Calculate loss\n",
    "                loss = -np.mean(np.sum(y_batch * np.log(output + 1e-8), axis=1))\n",
    "                epoch_loss += loss\n",
    "                \n",
    "                # Backward pass\n",
    "                grad_output = output - y_batch\n",
    "                self.backward(grad_output)\n",
    "            \n",
    "            # Calculate training metrics\n",
    "            train_loss = epoch_loss / n_batches\n",
    "            train_acc = correct_predictions / n_samples\n",
    "            \n",
    "            # Validation metrics\n",
    "            val_output = self.forward(X_val, training=False)\n",
    "            val_loss = -np.mean(np.sum(y_val_oh * np.log(val_output + 1e-8), axis=1))\n",
    "            val_pred = np.argmax(val_output, axis=1)\n",
    "            val_acc = np.mean(val_pred == y_val)\n",
    "            val_f1 = f1_score(y_val, val_pred, average='macro')\n",
    "            \n",
    "            # Store metrics\n",
    "            train_losses.append(train_loss)\n",
    "            val_losses.append(val_loss)\n",
    "            train_accs.append(train_acc)\n",
    "            val_accs.append(val_acc)\n",
    "            val_f1s.append(val_f1)\n",
    "            \n",
    "            print(f'Epoch {epoch+1}/{epochs}:')\n",
    "            print(f'Train Loss: {train_loss:.4f}, Train Accuracy: {train_acc:.4f}')\n",
    "            print(f'Val Loss: {val_loss:.4f}, Val Accuracy: {val_acc:.4f}')\n",
    "            print(f'Val Macro-F1: {val_f1:.4f}\\n')\n",
    "        \n",
    "        return train_losses, val_losses, train_accs, val_accs, val_f1s"
   ]
  },
  {
   "cell_type": "code",
   "execution_count": 72,
   "metadata": {},
   "outputs": [],
   "source": [
    "def load_data():\n",
    "    transform = transforms.Compose([\n",
    "        transforms.ToTensor(),\n",
    "        transforms.Lambda(lambda x: x.view(-1))  # Flatten\n",
    "    ])\n",
    "    \n",
    "    train_dataset = datasets.FashionMNIST(root='./data', train=True, download=True, transform=transform)\n",
    "    test_dataset = datasets.FashionMNIST(root='./data', train=False, download=True, transform=transform)\n",
    "    \n",
    "    train_loader = torch.utils.data.DataLoader(train_dataset, batch_size=64, shuffle=True)\n",
    "    test_loader = torch.utils.data.DataLoader(test_dataset, batch_size=64, shuffle=False)\n",
    "    \n",
    "    x_train = []\n",
    "    y_train = []\n",
    "    for data in train_loader:\n",
    "        x_train.append(data[0].numpy())\n",
    "        y_train.append(data[1].numpy())\n",
    "    \n",
    "    x_train = np.concatenate(x_train)\n",
    "    y_train = np.concatenate(y_train)\n",
    "    \n",
    "    x_val = []\n",
    "    y_val = []\n",
    "    for data in test_loader:\n",
    "        x_val.append(data[0].numpy())\n",
    "        y_val.append(data[1].numpy())\n",
    "    \n",
    "    x_val = np.concatenate(x_val)\n",
    "    y_val = np.concatenate(y_val)\n",
    "    \n",
    "    return x_train, y_train, x_val, y_val"
   ]
  },
  {
   "cell_type": "code",
   "execution_count": null,
   "metadata": {},
   "outputs": [],
   "source": []
  },
  {
   "cell_type": "code",
   "execution_count": 73,
   "metadata": {},
   "outputs": [],
   "source": [
    "def plot_metrics(train_losses, val_losses, train_accs, val_accs, val_f1s):\n",
    "    epochs = len(train_losses)\n",
    "    \n",
    "    plt.figure(figsize=(15, 5))\n",
    "    \n",
    "    # Plot losses\n",
    "    plt.subplot(1, 3, 1)\n",
    "    plt.plot(range(1, epochs + 1), train_losses, label='Train Loss')\n",
    "    plt.plot(range(1, epochs + 1), val_losses, label='Val Loss')\n",
    "    plt.xlabel('Epoch')\n",
    "    plt.ylabel('Loss')\n",
    "    plt.legend()\n",
    "    plt.title('Training and Validation Loss')\n",
    "    \n",
    "    # Plot accuracies\n",
    "    plt.subplot(1, 3, 2)\n",
    "    plt.plot(range(1, epochs + 1), train_accs, label='Train Accuracy')\n",
    "    plt.plot(range(1, epochs + 1), val_accs, label='Val Accuracy')\n",
    "    plt.xlabel('Epoch')\n",
    "    plt.ylabel('Accuracy')\n",
    "    plt.legend()\n",
    "    plt.title('Training and Validation Accuracy')\n",
    "    \n",
    "    # Plot F1 scores\n",
    "    plt.subplot(1, 3, 3)\n",
    "    plt.plot(range(1, epochs + 1), val_f1s, label='Validation Macro-F1')\n",
    "    plt.xlabel('Epoch')\n",
    "    plt.ylabel('Macro-F1 Score')\n",
    "    plt.legend()\n",
    "    plt.title('Validation Macro-F1 Score')\n",
    "    \n",
    "    plt.tight_layout()\n",
    "    plt.show()"
   ]
  },
  {
   "cell_type": "code",
   "execution_count": 74,
   "metadata": {},
   "outputs": [
    {
     "name": "stdout",
     "output_type": "stream",
     "text": [
      "Loading data...\n",
      "Initializing model...\n",
      "Training model...\n"
     ]
    },
    {
     "name": "stderr",
     "output_type": "stream",
     "text": [
      "Epoch 1/15: 100%|██████████| 937/937 [00:23<00:00, 39.46it/s]\n"
     ]
    },
    {
     "name": "stdout",
     "output_type": "stream",
     "text": [
      "Epoch 1/15:\n",
      "Train Loss: 1.2148, Train Accuracy: 0.6173\n",
      "Val Loss: 0.6269, Val Accuracy: 0.7937\n",
      "Val Macro-F1: 0.7885\n",
      "\n"
     ]
    },
    {
     "name": "stderr",
     "output_type": "stream",
     "text": [
      "Epoch 2/15: 100%|██████████| 937/937 [00:32<00:00, 28.53it/s]\n"
     ]
    },
    {
     "name": "stdout",
     "output_type": "stream",
     "text": [
      "Epoch 2/15:\n",
      "Train Loss: 0.7501, Train Accuracy: 0.7655\n",
      "Val Loss: 0.5196, Val Accuracy: 0.8224\n",
      "Val Macro-F1: 0.8207\n",
      "\n"
     ]
    },
    {
     "name": "stderr",
     "output_type": "stream",
     "text": [
      "Epoch 3/15: 100%|██████████| 937/937 [00:35<00:00, 26.40it/s]\n"
     ]
    },
    {
     "name": "stdout",
     "output_type": "stream",
     "text": [
      "Epoch 3/15:\n",
      "Train Loss: 0.6508, Train Accuracy: 0.7932\n",
      "Val Loss: 0.4825, Val Accuracy: 0.8350\n",
      "Val Macro-F1: 0.8338\n",
      "\n"
     ]
    },
    {
     "name": "stderr",
     "output_type": "stream",
     "text": [
      "Epoch 4/15: 100%|██████████| 937/937 [00:46<00:00, 20.11it/s]\n"
     ]
    },
    {
     "name": "stdout",
     "output_type": "stream",
     "text": [
      "Epoch 4/15:\n",
      "Train Loss: 0.5970, Train Accuracy: 0.8111\n",
      "Val Loss: 0.4588, Val Accuracy: 0.8452\n",
      "Val Macro-F1: 0.8446\n",
      "\n"
     ]
    },
    {
     "name": "stderr",
     "output_type": "stream",
     "text": [
      "Epoch 5/15: 100%|██████████| 937/937 [00:29<00:00, 31.58it/s]\n"
     ]
    },
    {
     "name": "stdout",
     "output_type": "stream",
     "text": [
      "Epoch 5/15:\n",
      "Train Loss: 0.5580, Train Accuracy: 0.8202\n",
      "Val Loss: 0.4472, Val Accuracy: 0.8514\n",
      "Val Macro-F1: 0.8501\n",
      "\n"
     ]
    },
    {
     "name": "stderr",
     "output_type": "stream",
     "text": [
      "Epoch 6/15: 100%|██████████| 937/937 [00:34<00:00, 27.40it/s]\n"
     ]
    },
    {
     "name": "stdout",
     "output_type": "stream",
     "text": [
      "Epoch 6/15:\n",
      "Train Loss: 0.5383, Train Accuracy: 0.8284\n",
      "Val Loss: 0.4350, Val Accuracy: 0.8510\n",
      "Val Macro-F1: 0.8507\n",
      "\n"
     ]
    },
    {
     "name": "stderr",
     "output_type": "stream",
     "text": [
      "Epoch 7/15: 100%|██████████| 937/937 [00:33<00:00, 28.34it/s]\n"
     ]
    },
    {
     "name": "stdout",
     "output_type": "stream",
     "text": [
      "Epoch 7/15:\n",
      "Train Loss: 0.5141, Train Accuracy: 0.8334\n",
      "Val Loss: 0.4214, Val Accuracy: 0.8577\n",
      "Val Macro-F1: 0.8562\n",
      "\n"
     ]
    },
    {
     "name": "stderr",
     "output_type": "stream",
     "text": [
      "Epoch 8/15: 100%|██████████| 937/937 [00:19<00:00, 47.31it/s]\n"
     ]
    },
    {
     "name": "stdout",
     "output_type": "stream",
     "text": [
      "Epoch 8/15:\n",
      "Train Loss: 0.4960, Train Accuracy: 0.8401\n",
      "Val Loss: 0.4100, Val Accuracy: 0.8621\n",
      "Val Macro-F1: 0.8612\n",
      "\n"
     ]
    },
    {
     "name": "stderr",
     "output_type": "stream",
     "text": [
      "Epoch 9/15: 100%|██████████| 937/937 [00:36<00:00, 25.96it/s]\n"
     ]
    },
    {
     "name": "stdout",
     "output_type": "stream",
     "text": [
      "Epoch 9/15:\n",
      "Train Loss: 0.4883, Train Accuracy: 0.8426\n",
      "Val Loss: 0.4123, Val Accuracy: 0.8615\n",
      "Val Macro-F1: 0.8604\n",
      "\n"
     ]
    },
    {
     "name": "stderr",
     "output_type": "stream",
     "text": [
      "Epoch 10/15: 100%|██████████| 937/937 [00:18<00:00, 50.87it/s]\n"
     ]
    },
    {
     "name": "stdout",
     "output_type": "stream",
     "text": [
      "Epoch 10/15:\n",
      "Train Loss: 0.4784, Train Accuracy: 0.8455\n",
      "Val Loss: 0.4012, Val Accuracy: 0.8656\n",
      "Val Macro-F1: 0.8653\n",
      "\n"
     ]
    },
    {
     "name": "stderr",
     "output_type": "stream",
     "text": [
      "Epoch 11/15: 100%|██████████| 937/937 [00:42<00:00, 21.84it/s]\n"
     ]
    },
    {
     "name": "stdout",
     "output_type": "stream",
     "text": [
      "Epoch 11/15:\n",
      "Train Loss: 0.4591, Train Accuracy: 0.8520\n",
      "Val Loss: 0.4017, Val Accuracy: 0.8680\n",
      "Val Macro-F1: 0.8668\n",
      "\n"
     ]
    },
    {
     "name": "stderr",
     "output_type": "stream",
     "text": [
      "Epoch 12/15: 100%|██████████| 937/937 [00:19<00:00, 48.02it/s]\n"
     ]
    },
    {
     "name": "stdout",
     "output_type": "stream",
     "text": [
      "Epoch 12/15:\n",
      "Train Loss: 0.4583, Train Accuracy: 0.8527\n",
      "Val Loss: 0.3978, Val Accuracy: 0.8663\n",
      "Val Macro-F1: 0.8658\n",
      "\n"
     ]
    },
    {
     "name": "stderr",
     "output_type": "stream",
     "text": [
      "Epoch 13/15: 100%|██████████| 937/937 [00:34<00:00, 27.00it/s]\n"
     ]
    },
    {
     "name": "stdout",
     "output_type": "stream",
     "text": [
      "Epoch 13/15:\n",
      "Train Loss: 0.4441, Train Accuracy: 0.8564\n",
      "Val Loss: 0.3950, Val Accuracy: 0.8686\n",
      "Val Macro-F1: 0.8681\n",
      "\n"
     ]
    },
    {
     "name": "stderr",
     "output_type": "stream",
     "text": [
      "Epoch 14/15: 100%|██████████| 937/937 [00:22<00:00, 42.19it/s]\n"
     ]
    },
    {
     "name": "stdout",
     "output_type": "stream",
     "text": [
      "Epoch 14/15:\n",
      "Train Loss: 0.4402, Train Accuracy: 0.8580\n",
      "Val Loss: 0.3875, Val Accuracy: 0.8711\n",
      "Val Macro-F1: 0.8702\n",
      "\n"
     ]
    },
    {
     "name": "stderr",
     "output_type": "stream",
     "text": [
      "Epoch 15/15: 100%|██████████| 937/937 [00:37<00:00, 25.02it/s]\n"
     ]
    },
    {
     "name": "stdout",
     "output_type": "stream",
     "text": [
      "Epoch 15/15:\n",
      "Train Loss: 0.4303, Train Accuracy: 0.8610\n",
      "Val Loss: 0.3834, Val Accuracy: 0.8730\n",
      "Val Macro-F1: 0.8719\n",
      "\n",
      "Plotting results...\n"
     ]
    },
    {
     "data": {
      "image/png": "[encoded data removed]",
      "text/plain": [
       "<Figure size 1500x500 with 3 Axes>"
      ]
     },
     "metadata": {},
     "output_type": "display_data"
    }
   ],
   "source": [
    "def main():\n",
    "    print(\"Loading data...\")\n",
    "    x_train, y_train, x_val, y_val = load_data()\n",
    "    \n",
    "    input_size = x_train.shape[1]  # 784 for MNIST\n",
    "    num_classes = 10\n",
    "\n",
    "    # # Initialize model1 with default hyperparameters\n",
    "    # hidden_sizes = [256, 128]\n",
    "    # learning_rate = 0.001\n",
    "    \n",
    "    # print(\"Initializing model...\")\n",
    "    # model1 = NeuralNetwork(input_size, hidden_sizes, num_classes, learning_rate)\n",
    "    \n",
    "    # print(\"Training model...\")\n",
    "    # metrics = model1.train(x_train, y_train, x_val, y_val, epochs=30, batch_size=128)\n",
    "    \n",
    "    # print(\"Plotting results...\")\n",
    "    # plot_metrics(*metrics)\n",
    "\n",
    "\n",
    "\n",
    "\n",
    "\n",
    "    # # Initialize model2 with different hyperparameters\n",
    "    # hidden_sizes = [512, 256, 128]\n",
    "    # learning_rate = 0.001\n",
    "    # print(\"Initializing model...\")\n",
    "    # model2 = NeuralNetwork(input_size, hidden_sizes, num_classes, learning_rate)\n",
    "\n",
    "    # print(\"Training model...\")\n",
    "    # metrics = model2.train(x_train, y_train, x_val, y_val, epochs=15, batch_size=64)\n",
    "\n",
    "    # print(\"Plotting results...\")\n",
    "    # plot_metrics(*metrics)\n",
    "\n",
    "\n",
    "\n",
    "\n",
    "    # Initialize model3 with different hidden layer sizes\n",
    "\n",
    "    hidden_sizes = [512, 256, 128, 64]\n",
    "    learning_rate = 0.001\n",
    "    print(\"Initializing model...\")\n",
    "    model3 = NeuralNetwork(input_size, hidden_sizes, num_classes, learning_rate)\n",
    "\n",
    "    print(\"Training model...\")\n",
    "    metrics = model3.train(x_train, y_train, x_val, y_val, epochs=15, batch_size=64)\n",
    "\n",
    "    print(\"Plotting results...\")\n",
    "    plot_metrics(*metrics)\n",
    "\n",
    "\n",
    "\n",
    "\n",
    "if __name__ == \"__main__\":\n",
    "    main()"
   ]
  }
 ],
 "metadata": {
  "kernelspec": {
   "display_name": "env",
   "language": "python",
   "name": "python3"
  },
  "language_info": {
   "codemirror_mode": {
    "name": "ipython",
    "version": 3
   },
   "file_extension": ".py",
   "mimetype": "text/x-python",
   "name": "python",
   "nbconvert_exporter": "python",
   "pygments_lexer": "ipython3",
   "version": "3.10.12"
  }
 },
 "nbformat": 4,
 "nbformat_minor": 2
}
