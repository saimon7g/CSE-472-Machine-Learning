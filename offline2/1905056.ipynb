{
 "cells": [
  {
   "cell_type": "markdown",
   "metadata": {},
   "source": [
    "import all libraries\n",
    "create class "
   ]
  },
  {
   "cell_type": "code",
   "execution_count": 87,
   "metadata": {},
   "outputs": [],
   "source": [
    "import numpy as np\n",
    "import matplotlib.pyplot as plt\n",
    "import pandas as pd\n",
    "import seaborn as sns\n",
    "from sklearn.utils import resample"
   ]
  },
  {
   "cell_type": "markdown",
   "metadata": {},
   "source": [
    "python class for normal logistic regression"
   ]
  },
  {
   "cell_type": "code",
   "execution_count": 88,
   "metadata": {},
   "outputs": [],
   "source": [
    "class LogisticRegression:\n",
    "    def __init__(self, weights=None, bias=None, learningRate=0.01, epochs=1000,selectedFeatures=None):\n",
    "        self.weights = weights\n",
    "        self.bias = bias\n",
    "        self.learningRate = learningRate\n",
    "        self.epochs = epochs\n",
    "        self.selectedFeatures = selectedFeatures\n",
    "    \n",
    "\n",
    "    def loss (self, y, y_hat):\n",
    "        return -np.mean(y * np.log(y_hat) + (1 - y) * np.log(1 - y_hat))\n",
    "    \n",
    "    def __sigmoid(self, z):\n",
    "        return 1 / (1 + np.exp(-z))\n",
    "\n",
    "    def fit(self, X, y):\n",
    "\n",
    "        numOfSamples = X.shape[0]\n",
    "        numOfFeatures = X.shape[1]\n",
    "        weights = np.zeros(numOfFeatures)\n",
    "        bias = 0\n",
    "        learningRate = 0.01\n",
    "        epochs = 1000\n",
    "        selectedFeatures = np.random.choice(numOfFeatures, 2, replace=False)\n",
    "        print(selectedFeatures)\n",
    "\n",
    "        for i in range(epochs):\n",
    "            y_hat = self.__sigmoid(np.dot(X, weights) + bias)\n",
    "            dw = (1 / numOfSamples) * np.dot(X.T, (y_hat - y))\n",
    "            db = (1 / numOfSamples) * np.sum(y_hat - y)\n",
    "            weights -= learningRate * dw\n",
    "            bias -= learningRate * db\n",
    "\n",
    "            if i % 100 == 0:\n",
    "                print(f'Epoch {i} loss: {self.loss(y, y_hat)}')\n",
    "\n",
    "        self.weights = weights\n",
    "        self.bias = bias\n",
    "        self.selectedFeatures = selectedFeatures\n",
    "\n",
    "    def predict(self, X):\n",
    "        y_hat = self.__sigmoid(np.dot(X, self.weights) + self.bias)\n",
    "        return y_hat\n",
    "    \n",
    "    def calculate_matrics(self, y, y_hat):\n",
    "        y_pred = np.round(y_hat)\n",
    "        accuracy = np.mean(y == y_pred)\n",
    "        return accuracy\n",
    "    \n",
    "    "
   ]
  },
  {
   "cell_type": "code",
   "execution_count": 89,
   "metadata": {},
   "outputs": [],
   "source": [
    "def dataPreProcessing_creditcard():\n",
    "    df = pd.read_csv('../Dataset/creditcard.csv')\n",
    "    numOfAttribuetes = df.shape[1]\n",
    "    numOfRecords = df.shape[0]\n",
    "    print(f'Number of records: {numOfRecords}')\n",
    "    print(f'Number of attributes: {numOfAttribuetes}')\n",
    "    # print(df.columns)\n",
    "    # print(df.head(10))\n",
    "    # print(df.describe())\n",
    "    # print(df.info())\n",
    "\n",
    "    #1 Checking for missing values  -----> use one less sum to see detailed missing values\n",
    "    missingValues = df.isnull().sum().sum()\n",
    "    # print(f'Missing values: {missingValues}')\n",
    "    #2 Checking for duplicates\n",
    "    duplicates = df.duplicated().sum()\n",
    "    # print(f'Duplicates: {duplicates}')\n",
    "    # duplicateRows = df[df.duplicated()]\n",
    "    # print(f'Duplicate rows: {duplicateRows}')\n",
    "\n",
    "    #3 replace missing values with mean ( numerical attributes)\n",
    "    df.fillna(df.mean(numeric_only=True), inplace=True)\n",
    "\n",
    "    #4 remove exact duplicates rows, keep the first one\n",
    "    df.drop_duplicates(inplace=True)\n",
    "    print(f'Number of records after removing duplicates: {df.shape[0]}')\n",
    "\n",
    "    #5 if any target value is missing, remove the record\n",
    "    df.dropna(subset=['Class'], inplace=True)\n",
    "    print(f'Number of records after removing missing target values: {df.shape[0]}')\n",
    "\n",
    "    #6 split the data into features and target\n",
    "    target_column = 'Class' \n",
    "    X = df.drop(target_column, axis=1)\n",
    "    y = df[target_column]\n",
    "\n",
    "    # print(X.shape)\n",
    "    # print(y.shape)\n",
    "    # print(y.value_counts())\n",
    "    # print(X.columns)\n",
    "\n",
    "    #7 display non numerical attributes\n",
    "    nonNumericalAttributes = X.select_dtypes(include=['object']).columns\n",
    "    # print(f'Non numerical attributes: {nonNumericalAttributes}')\n",
    "\n",
    "    # 8 scale the features\n",
    "    from sklearn.preprocessing import StandardScaler\n",
    "    scaler = StandardScaler()\n",
    "    scaled_X = scaler.fit_transform(X)\n",
    "\n",
    "    #9 make x a dataframe again\n",
    "    X = pd.DataFrame(scaled_X, columns=X.columns)\n",
    "\n",
    "    return X, y"
   ]
  },
  {
   "cell_type": "code",
   "execution_count": 90,
   "metadata": {},
   "outputs": [],
   "source": [
    "def test_train_split(X, y, test_size=0.2):\n",
    "    from sklearn.model_selection import train_test_split\n",
    "    X_train, X_test, y_train, y_test = train_test_split(X, y, test_size=test_size, random_state=42)\n",
    "    return X_train, X_test, y_train, y_test"
   ]
  },
  {
   "cell_type": "markdown",
   "metadata": {},
   "source": [
    "main Function, make changes here to slect different dataset"
   ]
  },
  {
   "cell_type": "markdown",
   "metadata": {},
   "source": [
    "DataSetLocation:\n",
    "../Dataset/creditcard.csv"
   ]
  },
  {
   "cell_type": "code",
   "execution_count": 91,
   "metadata": {},
   "outputs": [
    {
     "name": "stdout",
     "output_type": "stream",
     "text": [
      "Number of records: 284807\n",
      "Number of attributes: 31\n",
      "Number of records after removing duplicates: 283726\n",
      "Number of records after removing missing target values: 283726\n",
      "[21  3]\n",
      "Epoch 0 loss: 0.6931471805599451\n",
      "Epoch 100 loss: 0.49646814361530983\n",
      "Epoch 200 loss: 0.3743536761500963\n",
      "Epoch 300 loss: 0.29502269842331735\n",
      "Epoch 400 loss: 0.24088481823669305\n",
      "Epoch 500 loss: 0.20225386382772237\n",
      "Epoch 600 loss: 0.17361912423277487\n",
      "Epoch 700 loss: 0.15170716520512859\n",
      "Epoch 800 loss: 0.13448760273378152\n",
      "Epoch 900 loss: 0.12064997352287965\n"
     ]
    }
   ],
   "source": [
    "def main():\n",
    "\n",
    "# 1 - Data Preprocessing for creditcard dataset\n",
    "    X,y = dataPreProcessing_creditcard()\n",
    "    # print (X)\n",
    "    # print(X.shape)\n",
    "    # print(y.shape)\n",
    "    # print(y.value_counts())\n",
    "    # print(X.columns)\n",
    "\n",
    "    X_train, X_test, y_train, y_test = test_train_split(X, y, test_size=0.2)\n",
    "    \n",
    "# create 9 datasets smapling with replacement\n",
    "\n",
    "    data_sets = []\n",
    "    for i in range(9):\n",
    "        X_train_sampled, y_train_sampled = resample(X_train, y_train, replace=True)\n",
    "        data_sets.append((X_train_sampled, y_train_sampled))\n",
    "    # print(data_sets)\n",
    "\n",
    "    bagging_models=[]\n",
    "    for i in range(9):\n",
    "        model = LogisticRegression()\n",
    "        model.fit(data_sets[i][0], data_sets[i][1])\n",
    "        bagging_models.append(model)\n",
    "    # print(bagging_models)\n",
    "\n",
    "    # create a meta classifier\n",
    "    meta_classifier = LogisticRegression()\n",
    "\n",
    "\n",
    "\n",
    "    \n",
    "if __name__ == '__main__':\n",
    "    main()"
   ]
  }
 ],
 "metadata": {
  "kernelspec": {
   "display_name": "env",
   "language": "python",
   "name": "python3"
  },
  "language_info": {
   "codemirror_mode": {
    "name": "ipython",
    "version": 3
   },
   "file_extension": ".py",
   "mimetype": "text/x-python",
   "name": "python",
   "nbconvert_exporter": "python",
   "pygments_lexer": "ipython3",
   "version": "3.10.12"
  }
 },
 "nbformat": 4,
 "nbformat_minor": 2
}
